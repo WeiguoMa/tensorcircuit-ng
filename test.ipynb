{
 "cells": [
  {
   "cell_type": "code",
   "id": "initial_id",
   "metadata": {
    "collapsed": true,
    "ExecuteTime": {
     "end_time": "2025-08-14T08:12:23.631483Z",
     "start_time": "2025-08-14T08:12:22.053618Z"
    }
   },
   "source": "import tensorcircuit as tc",
   "outputs": [],
   "execution_count": 1
  },
  {
   "metadata": {
    "ExecuteTime": {
     "end_time": "2025-08-14T08:13:16.526969Z",
     "start_time": "2025-08-14T08:13:16.524397Z"
    }
   },
   "cell_type": "code",
   "source": "circ = tc.Circuit(3, 3)",
   "id": "c53c20a08a64ace8",
   "outputs": [],
   "execution_count": 2
  },
  {
   "metadata": {
    "ExecuteTime": {
     "end_time": "2025-08-14T08:14:21.237006Z",
     "start_time": "2025-08-14T08:14:21.059310Z"
    }
   },
   "cell_type": "code",
   "source": [
    "circ.h(0)\n",
    "for i in range(1, 3):\n",
    "    circ.csum(i - 1, i)"
   ],
   "id": "10cd39770cf8295d",
   "outputs": [],
   "execution_count": 3
  },
  {
   "metadata": {
    "ExecuteTime": {
     "end_time": "2025-08-14T08:20:27.268526Z",
     "start_time": "2025-08-14T08:20:26.108701Z"
    }
   },
   "cell_type": "code",
   "source": "circ.sample(batch=1024, format=\"count_dict_bin\")",
   "id": "d4862af178080574",
   "outputs": [
    {
     "data": {
      "text/plain": [
       "{'000': 347, '111': 343, '222': 334}"
      ]
     },
     "execution_count": 14,
     "metadata": {},
     "output_type": "execute_result"
    }
   ],
   "execution_count": 14
  },
  {
   "metadata": {
    "ExecuteTime": {
     "end_time": "2025-08-14T08:21:13.371169Z",
     "start_time": "2025-08-14T08:21:13.369116Z"
    }
   },
   "cell_type": "code",
   "source": "circ.draw()",
   "id": "20029d2cab494b0f",
   "outputs": [
    {
     "name": "stdout",
     "output_type": "stream",
     "text": [
      "<tensorcircuit.circuit.Circuit object at 0x1058d1370>\n"
     ]
    }
   ],
   "execution_count": 16
  },
  {
   "metadata": {},
   "cell_type": "code",
   "outputs": [],
   "execution_count": null,
   "source": "",
   "id": "10ac6415ebf51e81"
  }
 ],
 "metadata": {
  "kernelspec": {
   "display_name": "Python 3",
   "language": "python",
   "name": "python3"
  },
  "language_info": {
   "codemirror_mode": {
    "name": "ipython",
    "version": 2
   },
   "file_extension": ".py",
   "mimetype": "text/x-python",
   "name": "python",
   "nbconvert_exporter": "python",
   "pygments_lexer": "ipython2",
   "version": "2.7.6"
  }
 },
 "nbformat": 4,
 "nbformat_minor": 5
}
