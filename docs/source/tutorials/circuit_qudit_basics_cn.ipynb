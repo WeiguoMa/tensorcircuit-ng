{
 "cells": [
  {
   "cell_type": "markdown",
   "id": "fb9014d4",
   "metadata": {},
   "source": [
    "# Qudit（多能级量子比特） 电路基础\n",
    "\n",
    "*`tensorcircuit.quditcircuit.QuditCircuit` 的轻量入门*"
   ]
  },
  {
   "cell_type": "markdown",
   "id": "78755298",
   "metadata": {},
   "source": [
    "\n",
    "## 概述\n",
    "\n",
    "这个教程展示了如何使用 `tensorcircuit` 的 `QuditCircuit` API 来构建和模拟 **qudit（多能级量子比特）** 电路（d 级系统，其中 `d ≥ 3`）。\n",
    "\n",
    "**要点**\n",
    "- 创建一个 `QuditCircuit(nqudits, dim)` with dimension `dim ∈ [3, 36]`；\n",
    "- 单比特门: `X`, `Z`, `H`, rotations `RX/RY/RZ` on selected levels `(j, k)`；\n",
    "- 两比特门: `RXX`, `RZZ`, and the 广义受控求和 `CSUM` and 受控相位 `CPHASE`；\n",
    "- 可得到波函数、概率、采样、期望值以及子系统投影；\n",
    "- 样本和比特串使用36进制数字（`0–9A–Z`），其中`A = 10, ..., Z = 35`。\n"
   ]
  },
  {
   "cell_type": "markdown",
   "id": "639c47d1",
   "metadata": {},
   "source": [
    "\n",
    "## 配置"
   ]
  },
  {
   "cell_type": "code",
   "execution_count": 1,
   "id": "8f2d9565",
   "metadata": {
    "ExecuteTime": {
     "end_time": "2025-09-10T10:32:55.146319Z",
     "start_time": "2025-09-10T10:32:54.084837Z"
    }
   },
   "outputs": [
    {
     "name": "stdout",
     "output_type": "stream",
     "text": [
      "tensorcircuit version: 1.3.0\n"
     ]
    }
   ],
   "source": [
    "import tensorcircuit as tc\n",
    "from tensorcircuit.quditcircuit import QuditCircuit\n",
    "\n",
    "tc.set_backend(\"numpy\")  # or \"jax\", \"tensorflow\", \"pytorch\"\n",
    "print(\"tensorcircuit version:\", tc.__version__)"
   ]
  },
  {
   "cell_type": "markdown",
   "id": "e19b9c5d",
   "metadata": {},
   "source": [
    "## 嗨，Qutrit！（维度为 13）\n",
    "\n",
    "我们来准备一个**单独的 qudit* (`nqudits=1`, `dim=13`)， 对它应用一个广义的 Hadamard 门 `H`，让它进入一个等概率叠加态，然后观察最终的状态和概率。"
   ]
  },
  {
   "cell_type": "code",
   "execution_count": 2,
   "id": "3fa13efe",
   "metadata": {
    "ExecuteTime": {
     "end_time": "2025-09-10T10:32:55.208690Z",
     "start_time": "2025-09-10T10:32:55.205644Z"
    }
   },
   "outputs": [
    {
     "name": "stdout",
     "output_type": "stream",
     "text": [
      "\\psi: [0.2773501+0.j 0.2773501+0.j 0.2773501+0.j 0.2773501+0.j 0.2773501+0.j\n",
      " 0.2773501+0.j 0.2773501+0.j 0.2773501+0.j 0.2773501+0.j 0.2773501+0.j\n",
      " 0.2773501+0.j 0.2773501+0.j 0.2773501+0.j]\n",
      "P: [0.07692308 0.07692308 0.07692308 0.07692308 0.07692308 0.07692308\n",
      " 0.07692308 0.07692308 0.07692308 0.07692308 0.07692308 0.07692308\n",
      " 0.07692308]\n"
     ]
    }
   ],
   "source": [
    "c = QuditCircuit(nqudits=1, dim=13)\n",
    "c.h(0)  # generalized Hadamard on the only qudit\n",
    "psi = c.wavefunction()  # state vector of length 13^1 = 13\n",
    "probs = c.probability()  # probability vector (length 3)\n",
    "print(r\"\\psi:\", psi)\n",
    "print(\"P:\", probs)"
   ]
  },
  {
   "cell_type": "markdown",
   "id": "3d4bd27e",
   "metadata": {},
   "source": [
    "## 多量子比特基础\n",
    "\n",
    "让我们来研究一下**两个三态量子比特**，使用 `H` 门和量子比特受控和门 `CSUM` 来创建一个最大纠缠态。\n",
    "\n",
    "算符 `CSUM(control, target, cv=None)` 将控制位的数值加到目标位上，结果对 `dim` 取模。这是 CNOT 门的自然推广。如果传入 `cv`，则该门仅在控制位等于该值时激活（默认为 `None`）。"
   ]
  },
  {
   "cell_type": "code",
   "execution_count": 3,
   "id": "c53a755e",
   "metadata": {
    "ExecuteTime": {
     "end_time": "2025-09-10T10:32:55.224139Z",
     "start_time": "2025-09-10T10:32:55.221295Z"
    }
   },
   "outputs": [
    {
     "name": "stdout",
     "output_type": "stream",
     "text": [
      "|\\psi|^2 (length 3^2=9): [0.3333333 0.        0.        0.        0.3333333 0.        0.\n",
      " 0.        0.3333333]\n"
     ]
    }
   ],
   "source": [
    "cq = QuditCircuit(nqudits=2, dim=3)  # two qutrits\n",
    "cq.h(0)  # superpose control\n",
    "cq.csum(0, 1)  # qudit CNOT analog (control=0, target=1)\n",
    "psi = cq.wavefunction()\n",
    "probs = cq.probability()\n",
    "print(r\"|\\psi|^2 (length 3^2=9):\", probs)"
   ]
  },
  {
   "cell_type": "markdown",
   "id": "10f5f60a",
   "metadata": {},
   "source": [
    "### 采样和 36 进制读数\n",
    "\n",
    "采样会返回用 `0-9A-Z` 表示的、基于 `dim` 进制的字符串。例如，当 `dim=3` 时，字母表是 `0,1,2`："
   ]
  },
  {
   "cell_type": "code",
   "execution_count": 4,
   "id": "6542deab",
   "metadata": {
    "ExecuteTime": {
     "end_time": "2025-09-10T10:32:55.513434Z",
     "start_time": "2025-09-10T10:32:55.230298Z"
    }
   },
   "outputs": [
    {
     "data": {
      "text/plain": [
       "{'00': 175, '11': 165, '22': 172}"
      ]
     },
     "execution_count": 4,
     "metadata": {},
     "output_type": "execute_result"
    }
   ],
   "source": [
    "samples = cq.sample(batch=512, format=\"count_dict_bin\")  # e.g., '00', '11', '22'\n",
    "samples"
   ]
  },
  {
   "cell_type": "markdown",
   "id": "d2bd578c",
   "metadata": {},
   "source": [
    "## 在选定能级上的单量子比特旋转\n",
    "\n",
    "对于一个 qudit（多态量子位），旋转的目标是 `d` 个能级中的一个**双能级子空间**。\n",
    "\n",
    "- `rx(index, theta, j=0, k=1)` 在能级 `j` 和 `k` 之间绕该嵌入的 SU(2) 的 X 轴旋转。\n",
    "- `ry(index, theta, j=0, k=1)` 类似地，绕 Y 轴旋转。\n",
    "- `rz(index, theta, j=0)` 对单个能级 `j` 应用 Z 相位。\n",
    "\n",
    "> 提示：`(j, k)` 必须是 `[0, dim-1]` 中的不同整数。"
   ]
  },
  {
   "cell_type": "code",
   "execution_count": 5,
   "id": "e4e2b769",
   "metadata": {
    "ExecuteTime": {
     "end_time": "2025-09-10T10:32:55.529822Z",
     "start_time": "2025-09-10T10:32:55.526134Z"
    }
   },
   "outputs": [
    {
     "data": {
      "text/plain": [
       "(array([0.4472136 +0.j        , 0.38729832-0.2236068j ,\n",
       "        0.4472136 +0.j        , 0.38729832-0.2236068j ,\n",
       "        0.3618034 +0.26286554j], dtype=complex64),\n",
       " array([0.19999999, 0.19999997, 0.19999999, 0.19999997, 0.20000002],\n",
       "       dtype=float32))"
      ]
     },
     "execution_count": 5,
     "metadata": {},
     "output_type": "execute_result"
    }
   ],
   "source": [
    "import numpy as np\n",
    "\n",
    "c = QuditCircuit(nqudits=1, dim=5)  # a ququint\n",
    "c.h(0)  # start in equal superposition\n",
    "c.rx(0, theta=np.pi / 3, j=1, k=3)  # rotate levels 1 and 3\n",
    "c.rz(0, theta=np.pi / 5, j=4)  # add a phase to level 4\n",
    "psi = c.wavefunction()\n",
    "probs = c.probability()\n",
    "psi, probs"
   ]
  },
  {
   "cell_type": "markdown",
   "id": "9d98e918",
   "metadata": {},
   "source": [
    "## 两个多能级量子比特的相互作用：`RXX`，`RZZ`\n",
    "\n",
    "你可以对每个多能级量子比特的选定**子空间**进行操作来进行耦合：\n",
    "\n",
    "- `rxx(q1, q2, theta, j1=0, k1=1, j2=0, k2=1)`\n",
    "- `rzz(q1, q2, theta, j1=0, k1=1, j2=0, k2=1)`\n",
    "\n",
    "这两个门都是量子比特 XX/ZZ 旋转的自然推广，但仅限于 `(j, k)` 子空间。"
   ]
  },
  {
   "cell_type": "code",
   "execution_count": 6,
   "id": "a56be75e",
   "metadata": {
    "ExecuteTime": {
     "end_time": "2025-09-10T10:32:55.542966Z",
     "start_time": "2025-09-10T10:32:55.539802Z"
    }
   },
   "outputs": [
    {
     "data": {
      "text/plain": [
       "array([0.0625, 0.0625, 0.0625, 0.0625, 0.0625, 0.0625, 0.0625, 0.0625,\n",
       "       0.0625, 0.0625, 0.0625, 0.0625, 0.0625, 0.0625, 0.0625, 0.0625],\n",
       "      dtype=float32)"
      ]
     },
     "execution_count": 6,
     "metadata": {},
     "output_type": "execute_result"
    }
   ],
   "source": [
    "c2 = QuditCircuit(nqudits=2, dim=4)  # two ququarts\n",
    "c2.h(0)\n",
    "c2.h(1)\n",
    "c2.rxx(0, 1, theta=np.pi / 4, j1=0, k1=2, j2=1, k2=3)\n",
    "c2.rzz(0, 1, theta=np.pi / 7, j1=0, k1=1, j2=0, k2=1)\n",
    "c2.probability()"
   ]
  },
  {
   "cell_type": "markdown",
   "id": "c5a56af8",
   "metadata": {},
   "source": [
    "## 局部算符的期望值\n",
    "\n",
    "`expectation(*ops)` 计算一个或多个局部可观测量（算符）的期望值。每个可观测量是一个对 `(op, [site_indices])`，其中 `op` 是一个具有适当维度的张量（矩阵）。"
   ]
  },
  {
   "cell_type": "code",
   "execution_count": 7,
   "id": "fe4ed499",
   "metadata": {
    "ExecuteTime": {
     "end_time": "2025-09-10T10:32:55.554767Z",
     "start_time": "2025-09-10T10:32:55.551801Z"
    }
   },
   "outputs": [
    {
     "data": {
      "text/plain": [
       "array(0.49999997+0.j, dtype=complex64)"
      ]
     },
     "execution_count": 7,
     "metadata": {},
     "output_type": "execute_result"
    }
   ],
   "source": [
    "# Example: build a diagonal operator on a single qutrit（三能级量子比特）（三能级量子比特） (dim=3)\n",
    "import numpy as np\n",
    "\n",
    "c = QuditCircuit(1, dim=3)\n",
    "c.h(0)\n",
    "op = np.diag([0.0, 0.5, 1.0])  # acts on subspace levels 0,1,2\n",
    "expval = c.expectation((op, [0]))\n",
    "expval"
   ]
  },
  {
   "cell_type": "markdown",
   "id": "648ee02776427b3c",
   "metadata": {},
   "source": [
    "### 应用任意门\n",
    "\n",
    "直接使用 ``any`` API，输入对应的幺正矩阵即可。"
   ]
  },
  {
   "cell_type": "code",
   "execution_count": 8,
   "id": "4d73e00b952f2ac4",
   "metadata": {
    "ExecuteTime": {
     "end_time": "2025-09-10T10:33:10.278158Z",
     "start_time": "2025-09-10T10:32:55.563904Z"
    }
   },
   "outputs": [
    {
     "data": {
      "text/plain": [
       "{'00': 35,\n",
       " '11': 28,\n",
       " '22': 28,\n",
       " '33': 25,\n",
       " '44': 33,\n",
       " '55': 30,\n",
       " '66': 34,\n",
       " '77': 25,\n",
       " '88': 22,\n",
       " '99': 22,\n",
       " 'AA': 40,\n",
       " 'BB': 38,\n",
       " 'CC': 35,\n",
       " 'DD': 17,\n",
       " 'EE': 21,\n",
       " 'FF': 27,\n",
       " 'GG': 24,\n",
       " 'HH': 26,\n",
       " 'II': 27,\n",
       " 'JJ': 24,\n",
       " 'KK': 18,\n",
       " 'LL': 27,\n",
       " 'MM': 23,\n",
       " 'NN': 38,\n",
       " 'OO': 26,\n",
       " 'PP': 31,\n",
       " 'QQ': 27,\n",
       " 'RR': 37,\n",
       " 'SS': 28,\n",
       " 'TT': 20,\n",
       " 'UU': 34,\n",
       " 'VV': 34,\n",
       " 'WW': 32,\n",
       " 'XX': 25,\n",
       " 'YY': 29,\n",
       " 'ZZ': 34}"
      ]
     },
     "execution_count": 8,
     "metadata": {},
     "output_type": "execute_result"
    }
   ],
   "source": [
    "d = 36\n",
    "c = tc.QuditCircuit(2, dim=d)\n",
    "h_matrix = tc.quditgates.h_matrix_func(d)\n",
    "c.any(0, unitary=h_matrix)\n",
    "csum_matrix = tc.quditgates.csum_matrix_func(d)\n",
    "c.any(0, 1, unitary=csum_matrix)\n",
    "c.sample(1024, format=\"count_dict_bin\")"
   ]
  },
  {
   "cell_type": "markdown",
   "id": "7aa6de25",
   "metadata": {},
   "source": [
    "## 注意事项和提示\n",
    "\n",
    "- **维度**: `QuditCircuit` 会验证 `dim` 并且保持它在整个电路中的一致性。\n",
    "- **波函数和概率**: `wavefunction()` 返回状态；`probability()` 返回一个长度为 `dim^n` 的向量。\n",
    "- **采样**: `sample(batch, format=\"str\")` 返回易于阅读的 36 进制字符串；使用 `format=None` 获取原始整数。\n",
    "- **受控操作**: `csum(control, target, cv=None)` 泛化了 CNOT 门；`cv` 选择激活的控制值。\n",
    "- **后端**: 根据需要通过 `tc.set_backend(\"numpy\" | \"jax\" | \"tensorflow\" | \"pytorch\")` 切换后端。\n",
    "- **互操作性**: 你仍然可以获取完整幺正矩阵的 `matrix()` 或类似 MPO 的 `quoperator()` 形式，用于高级工作流程。\n",
    "\n",
    "所有这些函数都类似于 `tc.Circuit`。"
   ]
  }
 ],
 "metadata": {
  "language_info": {
   "name": "python"
  }
 },
 "nbformat": 4,
 "nbformat_minor": 5
}
