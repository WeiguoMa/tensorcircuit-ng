{
 "cells": [
  {
   "cell_type": "markdown",
   "id": "b3f40e81",
   "metadata": {},
   "source": [
    "## Quick Start Guide\n",
    "\n",
    "**📋 Available Lattice Types:**\n",
    "\n",
    "| Class | Description | Use Cases |\n",
    "|-------|-------------|-----------|\n",
    "| `SquareLattice` | 2D square grid with optional PBC | Spin models, quantum dots |\n",
    "| `ChainLattice` | 1D linear chain | Time evolution, MPS algorithms |\n",
    "| `HoneycombLattice` | 2D hexagonal structure | Graphene, topological materials |\n",
    "| `CustomizeLattice` | Arbitrary finite geometry | Molecular clusters, defects, irregular structures |\n",
    "\n",
    "**⚡ Key Methods:**\n",
    "- `.get_site_info(index)` → Site details (index, identifier, coordinates)\n",
    "- `.get_neighbors(site, k=1)` → k-th nearest neighbors of a site\n",
    "- `.get_neighbor_pairs(k=1)` → All unique k-th nearest neighbor pairs\n",
    "- `.show()` → Interactive visualization with matplotlib\n",
    "\n",
    "---"
   ]
  },
  {
   "cell_type": "markdown",
   "id": "9a7ff355",
   "metadata": {},
   "source": [
    "# Lattice Geometries in TensorCircuit\n",
    "\n",
    "This tutorial introduces the unified and extensible **Lattice API** in TensorCircuit, a powerful framework for defining and working with quantum systems on various geometric structures.\n",
    "\n",
    "## Prerequisites\n",
    "\n",
    "**Environment Requirements:**\n",
    "- TensorCircuit >= 1.3.0\n",
    "- Optional: JAX backend for automatic differentiation support\n",
    "- Python packages: `numpy`, `matplotlib`, `optax` (for optimization demos)\n",
    "\n",
    "## What You'll Learn\n",
    "\n",
    "By the end of this tutorial, you'll be able to:\n",
    "\n",
    "🔹 **Build common lattices** (square, chain, honeycomb) and custom geometries  \n",
    "🔹 **Query sites and neighbors** with configurable interaction ranges  \n",
    "🔹 **Visualize lattices** with bonds and site indices  \n",
    "🔹 **Generate physics Hamiltonians** (Heisenberg, Rydberg) directly from geometry  \n",
    "🔹 **Create gate layers** for efficient parallel two-qubit operations  \n",
    "🔹 **Explore differentiable geometry** for variational optimization  \n",
    "\n",
    "## Architecture Overview\n",
    "\n",
    "The API is centered around the **`AbstractLattice`** base class, with concrete implementations for:\n",
    "- **Translationally invariant lattices**: `SquareLattice`, `HoneycombLattice`, `ChainLattice` \n",
    "- **Arbitrary custom geometries**: `CustomizeLattice` for finite clusters and irregular structures\n",
    "\n",
    "This unified approach provides consistent interfaces while supporting both regular periodic structures and completely custom finite geometries."
   ]
  },
  {
   "cell_type": "code",
   "execution_count": 50,
   "id": "944ca9b5",
   "metadata": {},
   "outputs": [
    {
     "name": "stdout",
     "output_type": "stream",
     "text": [
      "✅ Using JAX backend (supports automatic differentiation)\n"
     ]
    },
    {
     "data": {
      "text/plain": [
       "jax_backend"
      ]
     },
     "execution_count": 50,
     "metadata": {},
     "output_type": "execute_result"
    }
   ],
   "source": [
    "# Essential imports for the lattice tutorial\n",
    "import numpy as np\n",
    "import matplotlib.pyplot as plt\n",
    "import tensorcircuit as tc\n",
    "\n",
    "# Import all lattice classes and utility functions\n",
    "from tensorcircuit.templates.lattice import (\n",
    "    AbstractLattice,\n",
    "    SquareLattice,\n",
    "    HoneycombLattice,\n",
    "    ChainLattice,\n",
    "    CustomizeLattice,\n",
    "    get_compatible_layers,\n",
    ")\n",
    "from tensorcircuit.templates.hamiltonians import (\n",
    "    heisenberg_hamiltonian,\n",
    "    rydberg_hamiltonian,\n",
    ")\n",
    "\n",
    "# JAX backend is preferred for differentiable geometry optimization,\n",
    "# but the API works with all TensorCircuit backends (numpy, jax, tensorflow, torch)\n",
    "try:\n",
    "    # Configure JAX to suppress precision warnings for this tutorial\n",
    "    import os\n",
    "\n",
    "    os.environ[\"JAX_ENABLE_X64\"] = \"True\"\n",
    "\n",
    "    K = tc.set_backend(\"jax\")\n",
    "    # Also enable via jax.config (best-effort)\n",
    "    try:\n",
    "        from jax import config as _jax_config\n",
    "\n",
    "        _jax_config.update(\"jax_enable_x64\", True)\n",
    "    except Exception:\n",
    "        pass\n",
    "    # Set precision to float64 for better numerical accuracy\n",
    "    tc.set_dtype(\"float64\")\n",
    "    print(\"✅ Using JAX backend (supports automatic differentiation)\")\n",
    "except Exception:\n",
    "    K = tc.set_backend(\"numpy\")\n",
    "    # Set precision to float64 for better numerical accuracy\n",
    "    tc.set_dtype(\"float64\")\n",
    "    print(\"⚠️ Using NumPy backend (limited differentiation support)\")\n",
    "\n",
    "K"
   ]
  },
  {
   "cell_type": "markdown",
   "id": "83f4e186",
   "metadata": {},
   "source": [
    "## 1. Square Lattice: Basic Operations\n",
    "\n",
    "We'll start by exploring a 3×3 square lattice with periodic boundary conditions (PBC). This demonstrates the core functionality: site information access, neighbor queries, and connectivity analysis.\n",
    "\n",
    "**Key concepts:**\n",
    "- **Site indexing**: Sites are numbered in row-major order (0-8 for a 3×3 grid)\n",
    "- **Identifiers**: Each site has a tuple identifier (row, col, layer) for multi-dimensional lattices  \n",
    "- **Periodic boundaries**: With `pbc=True`, edge sites connect to opposite edges\n",
    "- **Neighbor shells**: `k=1` means nearest neighbors, `k=2` next-nearest neighbors, etc."
   ]
  },
  {
   "cell_type": "code",
   "execution_count": 51,
   "id": "077c05f4",
   "metadata": {},
   "outputs": [
    {
     "name": "stdout",
     "output_type": "stream",
     "text": [
      "num_sites: 9\n",
      "dimensionality: 2\n",
      "site 4 info -> 4 (1, 1, 0) [1. 1.]\n",
      "nearest neighbors of site 4 -> [1, 3, 5, 7]\n",
      "unique NN pairs (first 8) -> [(0, 1), (0, 2), (0, 3), (0, 6), (1, 2), (1, 4), (1, 7), (2, 5)] ...\n"
     ]
    }
   ],
   "source": [
    "# Create a 3x3 square lattice with periodic boundary conditions and lattice constant 1.0\n",
    "sq = SquareLattice(size=(3, 3), pbc=True, lattice_constant=1.0)\n",
    "\n",
    "# Access basic lattice properties\n",
    "print(f\"num_sites: {sq.num_sites}\")\n",
    "print(f\"dimensionality: {sq.dimensionality}\")\n",
    "\n",
    "# Get information about site 4 (center site in row-major ordering for 3x3)\n",
    "idx, ident, coords = sq.get_site_info(4)\n",
    "print(\"site 4 info ->\", idx, ident, coords)\n",
    "\n",
    "# Find nearest neighbors of site 4\n",
    "nn = sq.get_neighbors(4, k=1)\n",
    "print(\"nearest neighbors of site 4 ->\", nn)\n",
    "\n",
    "# Get all unique nearest-neighbor pairs\n",
    "pairs = sq.get_neighbor_pairs(k=1, unique=True)\n",
    "print(\"unique NN pairs (first 8) ->\", pairs[:8], \"...\")"
   ]
  },
  {
   "cell_type": "markdown",
   "id": "2b54daaf",
   "metadata": {},
   "source": [
    "### Visualize the square lattice and bonds\n",
    "Use `.show()` to plot sites and optional bonds."
   ]
  },
  {
   "cell_type": "code",
   "execution_count": 52,
   "id": "4e1327bf",
   "metadata": {},
   "outputs": [
    {
     "data": {
      "image/png": "[encoded data removed]",
      "text/plain": [
       "<Figure size 500x500 with 1 Axes>"
      ]
     },
     "metadata": {},
     "output_type": "display_data"
    }
   ],
   "source": [
    "# Draw square lattice on a provided Axes to avoid extra blank figures\n",
    "fig, ax = plt.subplots(figsize=(5, 5))\n",
    "sq.show(ax=ax, show_indices=True, show_bonds_k=1)\n",
    "ax.set_title(\"3x3 Square Lattice (PBC), k=1 bonds\")\n",
    "ax.set_aspect(\"equal\")\n",
    "plt.show()"
   ]
  },
  {
   "cell_type": "markdown",
   "id": "63118376",
   "metadata": {},
   "source": [
    "## 2. Custom geometry: Kagome fragment\n",
    "For irregular or finite clusters, use `CustomizeLattice` with explicit coordinates and identifiers."
   ]
  },
  {
   "cell_type": "code",
   "execution_count": 64,
   "id": "7925359a",
   "metadata": {},
   "outputs": [
    {
     "name": "stdout",
     "output_type": "stream",
     "text": [
      "neighbors of site 2 -> [0, 1, 4, 5]\n"
     ]
    },
    {
     "data": {
      "image/png": "[encoded data removed]",
      "text/plain": [
       "<Figure size 500x500 with 1 Axes>"
      ]
     },
     "metadata": {},
     "output_type": "display_data"
    }
   ],
   "source": [
    "# Define a small Kagome-like fragment\n",
    "kag_coords = [\n",
    "    [0.0, 0.0],\n",
    "    [1.0, 0.0],\n",
    "    [0.5, float(np.sqrt(3) / 2)],  # triangle 1\n",
    "    [2.0, 0.0],\n",
    "    [1.5, float(np.sqrt(3) / 2)],  # triangle 2\n",
    "    [1.0, float(np.sqrt(3))],  # top site\n",
    "]\n",
    "kag_ids = list(range(len(kag_coords)))\n",
    "kag = CustomizeLattice(dimensionality=2, identifiers=kag_ids, coordinates=kag_coords)\n",
    "# Compute nearest neighbors on demand (k=1)\n",
    "print(\"neighbors of site 2 ->\", kag.get_neighbors(2, k=1))\n",
    "\n",
    "# Draw Kagome on a provided Axes\n",
    "fig, ax = plt.subplots(figsize=(5, 5))\n",
    "kag.show(ax=ax, show_indices=True, show_bonds_k=1)\n",
    "ax.set_title(\"Kagome fragment with NN bonds\")\n",
    "ax.set_aspect(\"equal\")\n",
    "plt.show()"
   ]
  },
  {
   "cell_type": "markdown",
   "id": "6c276e82",
   "metadata": {},
   "source": [
    "## 3. From geometry to Hamiltonians\n",
    "We can build sparse physics Hamiltonians directly from lattice connectivity and coordinates."
   ]
  },
  {
   "cell_type": "markdown",
   "id": "978c629c",
   "metadata": {},
   "source": [
    "### 3.1 Heisenberg model on a 2x2 square lattice\n",
    "Nearest-neighbor Heisenberg: H = J Σ⟨i,j⟩ (X_i X_j + Y_i Y_j + Z_i Z_j)."
   ]
  },
  {
   "cell_type": "code",
   "execution_count": 54,
   "id": "9147ff4b",
   "metadata": {},
   "outputs": [
    {
     "name": "stdout",
     "output_type": "stream",
     "text": [
      "Heisenberg(H) shape: (16, 16)\n",
      "Hermitian check -> True\n"
     ]
    }
   ],
   "source": [
    "sq22 = SquareLattice(size=(2, 2), pbc=True)\n",
    "Hh = heisenberg_hamiltonian(sq22, j_coupling=1.0, interaction_scope=\"neighbors\")\n",
    "print(\"Heisenberg(H) shape:\", Hh.shape)\n",
    "Hd = tc.backend.to_dense(Hh)\n",
    "print(\"Hermitian check ->\", np.allclose(Hd, Hd.conj().T))"
   ]
  },
  {
   "cell_type": "markdown",
   "id": "f8c63286",
   "metadata": {},
   "source": [
    "### 3.2 Rydberg atom array Hamiltonian\n",
    "Includes on-site drive/detuning and distance-dependent interactions V_ij = C6/|r_i-r_j|^6."
   ]
  },
  {
   "cell_type": "code",
   "execution_count": 55,
   "id": "25fe2372",
   "metadata": {},
   "outputs": [
    {
     "name": "stdout",
     "output_type": "stream",
     "text": [
      "Rydberg(H) shape: (4, 4)\n"
     ]
    },
    {
     "data": {
      "text/plain": [
       "Array([[-0.71947874+0.j,  0.5       +0.j,  0.5       +0.j,\n",
       "         0.        +0.j],\n",
       "       [ 0.5       +0.j, -0.21947874+0.j,  0.        +0.j,\n",
       "         0.5       +0.j],\n",
       "       [ 0.5       +0.j,  0.        +0.j, -0.21947874+0.j,\n",
       "         0.5       +0.j],\n",
       "       [ 0.        +0.j,  0.5       +0.j,  0.5       +0.j,\n",
       "         1.15843621+0.j]], dtype=complex128)"
      ]
     },
     "execution_count": 55,
     "metadata": {},
     "output_type": "execute_result"
    }
   ],
   "source": [
    "chain2 = ChainLattice(size=(2,), pbc=False, lattice_constant=1.5)\n",
    "Hr = rydberg_hamiltonian(chain2, omega=1.0, delta=-0.5, c6=10.0)\n",
    "print(\"Rydberg(H) shape:\", Hr.shape)\n",
    "tc.backend.to_dense(Hr)  # display"
   ]
  },
  {
   "cell_type": "code",
   "execution_count": 56,
   "id": "c9f5efe4",
   "metadata": {},
   "outputs": [
    {
     "name": "stdout",
     "output_type": "stream",
     "text": [
      "Rydberg 2-site validation: PASS\n"
     ]
    }
   ],
   "source": [
    "# Validation: Rydberg Hamiltonian on 2-site chain (mirrors tests)\n",
    "import warnings\n",
    "\n",
    "with warnings.catch_warnings():\n",
    "    warnings.simplefilter(\n",
    "        \"ignore\"\n",
    "    )  # Suppress JAX precision warnings for cleaner tutorial output\n",
    "\n",
    "    PAULI_X = np.array([[0, 1], [1, 0]], dtype=complex)\n",
    "    PAULI_Y = np.array([[0, -1j], [1j, 0]], dtype=complex)\n",
    "    PAULI_Z = np.array([[1, 0], [0, -1]], dtype=complex)\n",
    "    PAULI_I = np.eye(2, dtype=complex)\n",
    "\n",
    "    # Use the same parameters as in the actual test file\n",
    "    lat = ChainLattice(size=(2,), pbc=False, lattice_constant=1.5)\n",
    "    omega, delta, c6 = 1.0, -0.5, 10.0\n",
    "    H_gen = rydberg_hamiltonian(lat, omega, delta, c6)\n",
    "\n",
    "    v_ij = c6 / (1.5**6)\n",
    "    H1 = (omega / 2.0) * (np.kron(PAULI_X, PAULI_I) + np.kron(PAULI_I, PAULI_X))\n",
    "    z0 = delta / 2.0 - v_ij / 4.0\n",
    "    z1 = delta / 2.0 - v_ij / 4.0\n",
    "    H2 = z0 * np.kron(PAULI_Z, PAULI_I) + z1 * np.kron(PAULI_I, PAULI_Z)\n",
    "    H3 = (v_ij / 4.0) * np.kron(PAULI_Z, PAULI_Z)\n",
    "    H_exp = H1 + H2 + H3\n",
    "\n",
    "    ok = np.allclose(tc.backend.to_dense(H_gen), H_exp)\n",
    "    print(\"Rydberg 2-site validation:\", \"PASS\" if ok else \"FAIL\")"
   ]
  },
  {
   "cell_type": "markdown",
   "id": "c814e2af",
   "metadata": {},
   "source": [
    "## 4. Gate layering for NN two-qubit gates\n",
    "To schedule parallel two-qubit gates on neighbors, group edges into disjoint layers."
   ]
  },
  {
   "cell_type": "code",
   "execution_count": 57,
   "id": "a0553ad7",
   "metadata": {},
   "outputs": [
    {
     "name": "stdout",
     "output_type": "stream",
     "text": [
      "Number of layers: 5\n",
      "Layer 0 : [(0, 1), (2, 5), (3, 4), (6, 7)] \n",
      "Layer 1 : [(0, 2), (1, 4), (3, 5), (6, 8)] \n",
      "Layer 2 : [(0, 3), (1, 2), (4, 5), (7, 8)] \n",
      "Layer 3 : [(0, 6), (1, 7), (2, 8)] \n",
      "Layer 4 : [(3, 6), (4, 7), (5, 8)] \n"
     ]
    }
   ],
   "source": [
    "pairs = sq.get_neighbor_pairs(k=1, unique=True)\n",
    "layers = get_compatible_layers(pairs)\n",
    "print(\"Number of layers:\", len(layers))\n",
    "for li, layer in enumerate(layers):\n",
    "    head = layer[:6]\n",
    "    suffix = \" ...\" if len(layer) > 6 else \"\"\n",
    "    print(\"Layer\", li, \":\", head, suffix)"
   ]
  },
  {
   "cell_type": "markdown",
   "id": "19bafac9",
   "metadata": {},
   "source": [
    "## 5. Differentiable geometry: optimize lattice constant (Lennard-Jones)\n",
    "\n",
    "Below we demonstrate optimizing a geometric parameter (the lattice constant) using automatic differentiation.\n",
    "We use a Lennard-Jones potential over all pairs as a simple, geometry-driven objective.\n",
    "\n",
    "If the JAX backend is available, we run a short Adam optimization; otherwise the demo is skipped."
   ]
  },
  {
   "cell_type": "code",
   "execution_count": 58,
   "id": "3c417cdb",
   "metadata": {},
   "outputs": [
    {
     "name": "stdout",
     "output_type": "stream",
     "text": [
      "iter 20: E=-20.305588, a=1.116975\n",
      "iter 40: E=-20.495401, a=1.104924\n",
      "iter 60: E=-20.516659, a=1.099829\n",
      "iter 80: E=-20.516122, a=1.100113\n",
      "Final: E=-20.516308 a=1.100113\n"
     ]
    }
   ],
   "source": [
    "try:\n",
    "    import optax\n",
    "except ImportError:\n",
    "    optax = None\n",
    "\n",
    "use_jax = (\n",
    "    getattr(tc, \"backend\", None) is not None\n",
    "    and getattr(tc.backend, \"name\", \"\") == \"jax\"\n",
    "    and optax is not None\n",
    ")\n",
    "\n",
    "if use_jax:\n",
    "    import warnings as _warnings\n",
    "\n",
    "    # Suppress known JAX truncation warning when complex128 falls back to complex64\n",
    "    _warnings.filterwarnings(\n",
    "        \"ignore\",\n",
    "        message=(\n",
    "            r\"Explicitly requested dtype <class 'jax.numpy.complex128'> requested in astype is not available\"\n",
    "        ),\n",
    "        module=r\"jax\\\\._src\\\\numpy\\\\array_methods\",\n",
    "        category=UserWarning,\n",
    "    )\n",
    "\n",
    "    # Define a differentiable objective with log(a) parameterization to keep a>0\n",
    "    def lj_total_energy(log_a, epsilon=0.5, sigma=1.0, size=(4, 4)):\n",
    "        a = K.exp(log_a)\n",
    "        lat = SquareLattice(size=size, pbc=True, lattice_constant=a)\n",
    "        d = lat.distance_matrix\n",
    "        # More robust distance handling to avoid numerical issues\n",
    "        d_safe = K.where(\n",
    "            d > 1e-6, d, K.convert_to_tensor(1e6)\n",
    "        )  # Large value for self-interactions\n",
    "        term12 = K.power(sigma / d_safe, 12)\n",
    "        term6 = K.power(sigma / d_safe, 6)\n",
    "        e_mat = 4.0 * epsilon * (term12 - term6)\n",
    "        n = lat.num_sites\n",
    "        # Zero out diagonal (self-interactions) more explicitly\n",
    "        mask = 1.0 - K.eye(n, dtype=e_mat.dtype)\n",
    "        e_mat = e_mat * mask\n",
    "        total_energy = K.sum(e_mat) / 2.0  # each pair counted twice\n",
    "        return total_energy\n",
    "\n",
    "    val_and_grad = K.jit(K.value_and_grad(lj_total_energy))\n",
    "    opt = optax.adam(learning_rate=0.02)\n",
    "    log_a = K.convert_to_tensor(K.log(K.convert_to_tensor(1.2)))\n",
    "    state = opt.init(log_a)\n",
    "\n",
    "    hist_a = []\n",
    "    hist_e = []\n",
    "    for it in range(80):\n",
    "        e, g = val_and_grad(log_a)\n",
    "        hist_a.append(K.exp(log_a))\n",
    "        hist_e.append(e)\n",
    "        upd, state = opt.update(g, state)\n",
    "        log_a = optax.apply_updates(log_a, upd)\n",
    "        if (it + 1) % 20 == 0:\n",
    "            print(f\"iter {it+1}: E={float(e):.6f}, a={float(K.exp(log_a)):.6f}\")\n",
    "\n",
    "    final_a = K.exp(log_a)\n",
    "    final_e = lj_total_energy(log_a)\n",
    "    print(\"Final:\", f\"E={float(final_e):.6f}\", f\"a={float(final_a):.6f}\")\n",
    "else:\n",
    "    print(\n",
    "        \"JAX backend or optax not available; skipping differentiable optimization demo.\"\n",
    "    )"
   ]
  },
  {
   "cell_type": "code",
   "execution_count": 59,
   "id": "66d7b54a",
   "metadata": {},
   "outputs": [
    {
     "data": {
      "image/png": "[encoded data removed]",
      "text/plain": [
       "<Figure size 600x400 with 1 Axes>"
      ]
     },
     "metadata": {},
     "output_type": "display_data"
    }
   ],
   "source": [
    "# Plot energy curve and optimization steps if JAX path ran\n",
    "ran = bool(globals().get(\"use_jax\", False))\n",
    "\n",
    "if ran:\n",
    "    # sample a-curve (NumPy for speed is fine)\n",
    "    a_grid = np.linspace(0.8, 1.6, 120)\n",
    "\n",
    "    def lj_energy_np(a, epsilon=0.5, sigma=1.0, size=(4, 4)):\n",
    "        lat = SquareLattice(size=size, pbc=True, lattice_constant=float(a))\n",
    "        d = lat.distance_matrix\n",
    "        d = np.asarray(d)\n",
    "        n = d.shape[0]\n",
    "        mask = ~np.eye(n, dtype=bool)\n",
    "        ds = d[mask]\n",
    "        ds = np.where(ds > 1e-9, ds, 1e-9)\n",
    "        e = 4 * epsilon * (np.sum((sigma / ds) ** 12 - (sigma / ds) ** 6)) / 2.0\n",
    "        return float(e)\n",
    "\n",
    "    e_grid = [lj_energy_np(a) for a in a_grid]\n",
    "\n",
    "    # convert hist tensors to floats\n",
    "    hist_a_f = [float(x) for x in hist_a]\n",
    "    hist_e_f = [float(x) for x in hist_e]\n",
    "    fa = float(final_a)\n",
    "    fe = float(final_e)\n",
    "\n",
    "    plt.figure(figsize=(6, 4))\n",
    "    plt.plot(a_grid, e_grid, label=\"LJ potential\")\n",
    "    plt.scatter(hist_a_f, hist_e_f, s=18, color=\"tab:red\", label=\"opt steps\")\n",
    "    plt.scatter([fa], [fe], s=80, color=\"tab:green\", marker=\"*\", label=\"final\")\n",
    "    plt.xlabel(\"lattice constant a\")\n",
    "    plt.ylabel(\"total energy\")\n",
    "    plt.title(\"Differentiable geometry optimization (4x4 square, PBC)\")\n",
    "    plt.legend()\n",
    "    plt.grid(True)\n",
    "    plt.show()\n",
    "else:\n",
    "    pass"
   ]
  },
  {
   "cell_type": "markdown",
   "id": "165c0bca",
   "metadata": {},
   "source": [
    "### Summary of differentiable demo\n",
    "- The lattice constant `a` was treated as a differentiable parameter via `log(a)` reparameterization.\n",
    "- We computed the Lennard-Jones energy using lattice distances and optimized it with Adam.\n",
    "- For a full script and more iterations, see `examples/lennard_jones_optimization.py`."
   ]
  },
  {
   "cell_type": "markdown",
   "id": "74f520fd",
   "metadata": {},
   "source": [
    "### Test-backed validations\n",
    "Below cells replicate a few unit-test checks to help users trust and understand the APIs."
   ]
  },
  {
   "cell_type": "code",
   "execution_count": 60,
   "id": "0fe35988",
   "metadata": {},
   "outputs": [
    {
     "name": "stdout",
     "output_type": "stream",
     "text": [
      "Heisenberg 2-site isotropic: PASS\n"
     ]
    }
   ],
   "source": [
    "# Heisenberg 2-site chain (isotropic) validation\n",
    "import warnings\n",
    "\n",
    "with warnings.catch_warnings():\n",
    "    warnings.simplefilter(\n",
    "        \"ignore\"\n",
    "    )  # Suppress JAX precision warnings for cleaner tutorial output\n",
    "\n",
    "    lat2 = ChainLattice(size=(2,), pbc=False)\n",
    "    j = -1.5\n",
    "    H_gen = heisenberg_hamiltonian(lat2, j_coupling=j)\n",
    "    PX = np.array([[0, 1], [1, 0]], dtype=complex)\n",
    "    PY = np.array([[0, -1j], [1j, 0]], dtype=complex)\n",
    "    PZ = np.array([[1, 0], [0, -1]], dtype=complex)\n",
    "    I2 = np.eye(2, dtype=complex)\n",
    "    H_exp = j * (np.kron(PX, PX) + np.kron(PY, PY) + np.kron(PZ, PZ))\n",
    "\n",
    "    result = (\n",
    "        \"PASS\" if np.allclose(tc.backend.to_dense(H_gen), H_exp, atol=1e-5) else \"FAIL\"\n",
    "    )\n",
    "    print(\"Heisenberg 2-site isotropic:\", result)"
   ]
  },
  {
   "cell_type": "code",
   "execution_count": 61,
   "id": "40c38d19",
   "metadata": {},
   "outputs": [
    {
     "name": "stdout",
     "output_type": "stream",
     "text": [
      "Heisenberg 2-site anisotropic: PASS\n"
     ]
    }
   ],
   "source": [
    "# Heisenberg 2-site chain (anisotropic) validation\n",
    "with warnings.catch_warnings():\n",
    "    warnings.simplefilter(\n",
    "        \"ignore\"\n",
    "    )  # Suppress JAX precision warnings for cleaner tutorial output\n",
    "\n",
    "    lat2b = ChainLattice(size=(2,), pbc=False)\n",
    "    jx, jy, jz = -1.0, 0.5, 2.0\n",
    "    H_gen = heisenberg_hamiltonian(lat2b, j_coupling=[jx, jy, jz])\n",
    "    PX = np.array([[0, 1], [1, 0]], dtype=complex)\n",
    "    PY = np.array([[0, -1j], [1j, 0]], dtype=complex)\n",
    "    PZ = np.array([[1, 0], [0, -1]], dtype=complex)\n",
    "    H_exp = jx * np.kron(PX, PX) + jy * np.kron(PY, PY) + jz * np.kron(PZ, PZ)\n",
    "\n",
    "    result = \"PASS\" if np.allclose(tc.backend.to_dense(H_gen), H_exp) else \"FAIL\"\n",
    "    print(\"Heisenberg 2-site anisotropic:\", result)"
   ]
  },
  {
   "cell_type": "code",
   "execution_count": 62,
   "id": "dc071f32",
   "metadata": {},
   "outputs": [
    {
     "name": "stdout",
     "output_type": "stream",
     "text": [
      "Heisenberg 3-site all-to-all: PASS\n"
     ]
    }
   ],
   "source": [
    "# Heisenberg 3-site chain all-to-all validation\n",
    "with warnings.catch_warnings():\n",
    "    warnings.simplefilter(\n",
    "        \"ignore\"\n",
    "    )  # Suppress JAX precision warnings for cleaner tutorial output\n",
    "\n",
    "    lat3 = ChainLattice(size=(3,), pbc=False)\n",
    "    H_gen = heisenberg_hamiltonian(lat3, j_coupling=1.0, interaction_scope=\"all\")\n",
    "    PX = np.array([[0, 1], [1, 0]], dtype=complex)\n",
    "    PY = np.array([[0, -1j], [1j, 0]], dtype=complex)\n",
    "    PZ = np.array([[1, 0], [0, -1]], dtype=complex)\n",
    "    I2 = np.eye(2, dtype=complex)\n",
    "    xx_01 = np.kron(PX, np.kron(PX, I2))\n",
    "    yy_01 = np.kron(PY, np.kron(PY, I2))\n",
    "    zz_01 = np.kron(PZ, np.kron(PZ, I2))\n",
    "    xx_02 = np.kron(PX, np.kron(I2, PX))\n",
    "    yy_02 = np.kron(PY, np.kron(I2, PY))\n",
    "    zz_02 = np.kron(PZ, np.kron(I2, PZ))\n",
    "    xx_12 = np.kron(I2, np.kron(PX, PX))\n",
    "    yy_12 = np.kron(I2, np.kron(PY, PY))\n",
    "    zz_12 = np.kron(I2, np.kron(PZ, PZ))\n",
    "    H_exp = (xx_01 + yy_01 + zz_01) + (xx_02 + yy_02 + zz_02) + (xx_12 + yy_12 + zz_12)\n",
    "\n",
    "    result = (\n",
    "        \"PASS\"\n",
    "        if np.allclose(tc.backend.to_dense(H_gen), H_exp, rtol=1e-4, atol=1e-7)\n",
    "        else \"FAIL\"\n",
    "    )\n",
    "    print(\"Heisenberg 3-site all-to-all:\", result)"
   ]
  },
  {
   "cell_type": "markdown",
   "id": "22d9f903",
   "metadata": {},
   "source": [
    "# Further Reading and Resources\n",
    "\n",
    "## API Reference\n",
    "- **Core lattice classes**: `tensorcircuit/templates/lattice.py` - All lattice geometry classes\n",
    "- **Hamiltonian utilities**: `tensorcircuit/templates/hamiltonians.py` - Physics Hamiltonian builders\n",
    "\n",
    "## Complete Examples\n",
    "Explore these examples in the `examples/` directory:\n",
    "- **`lennard_jones_optimization.py`** - Full differentiable geometry optimization with JAX/Optax\n",
    "- **`lattice_neighbor_benchmark.py`** - Performance comparison for different neighbor-finding algorithms\n",
    "\n",
    "## Test Suite and Validation\n",
    "The test suites showcase rich usage patterns and provide validation:\n",
    "- **`tests/test_lattice.py`** - Comprehensive lattice functionality tests\n",
    "- **`tests/test_hamiltonians.py`** - Physics Hamiltonian validation against analytical results\n",
    "\n",
    "## Key Features Demonstrated\n",
    "✅ **Unified API** for both regular and custom geometries  \n",
    "✅ **Efficient neighbor finding** with configurable interaction shells  \n",
    "✅ **Interactive visualization** with bonds and site labeling  \n",
    "✅ **Physics-ready Hamiltonians** from geometric connectivity  \n",
    "✅ **Parallel gate scheduling** for quantum circuit optimization  \n",
    "✅ **Differentiable parameters** for variational material design  \n",
    "\n",
    "## Performance Tips & Best Practices\n",
    "\n",
    "### For Large Systems (N > 1000 sites):\n",
    "- Use `CustomizeLattice` with KDTree neighbor building for better scalability\n",
    "- Consider sparse representations for distance-dependent interactions\n",
    "- Pre-compute neighbors with `_build_neighbors(max_k=...)` once\n",
    "\n",
    "### Backend Selection:\n",
    "- **JAX**: Best for differentiable geometry and automatic differentiation\n",
    "- **NumPy**: Simple and reliable for static lattice analysis\n",
    "- **TensorFlow/PyTorch**: For integration with existing ML pipelines\n",
    "\n",
    "### Memory Efficiency:\n",
    "- Distance matrices scale as O(N²) - use neighbor lists for very large systems\n",
    "- For visualization: use `show_bonds_k=0` for large lattices to show only sites\n",
    "\n",
    "### Precision Considerations:\n",
    "- Use `tc.set_dtype(\"float64\")` for high-precision physics calculations\n",
    "- Set `JAX_ENABLE_X64=True` to avoid precision warnings with complex numbers\n",
    "\n",
    "---\n",
    "\n",
    "**🎯 Next Steps**: Try building your own custom lattice geometry or implementing a new physics Hamiltonian using this framework!"
   ]
  },
  {
   "cell_type": "code",
   "execution_count": 63,
   "id": "921ef23d",
   "metadata": {},
   "outputs": [
    {
     "name": "stdout",
     "output_type": "stream",
     "text": [
      "✅ TensorCircuit: 1.3.0, backend: jax, dtype: ('complex128', 'float64')\n",
      "🐍 Python: 3.10.5\n",
      "💻 Platform: Windows-10-10.0.26100-SP0\n",
      "\n",
      "🎉 Tutorial completed successfully! You're now ready to use the lattice API in your quantum simulations.\n"
     ]
    }
   ],
   "source": [
    "# Environment info for reproducibility\n",
    "import sys, platform\n",
    "\n",
    "try:\n",
    "    import tensorcircuit as tc\n",
    "\n",
    "    ver = getattr(tc, \"__version__\", \"unknown\")\n",
    "    try:\n",
    "        be = getattr(tc, \"backend\", None)\n",
    "        be_name = getattr(be, \"name\", str(be)) if be is not None else \"unset\"\n",
    "    except Exception:\n",
    "        be_name = \"unknown\"\n",
    "    try:\n",
    "        # Report actual global dtypes set via tc.set_dtype\n",
    "        cdt = getattr(tc, \"dtypestr\", \"unknown\")\n",
    "        rdt = getattr(tc, \"rdtypestr\", \"unknown\")\n",
    "        dtype = (cdt, rdt)\n",
    "    except Exception:\n",
    "        dtype = \"unknown\"\n",
    "    print(f\"✅ TensorCircuit: {ver}, backend: {be_name}, dtype: {dtype}\")\n",
    "except Exception as e:\n",
    "    print(\"❌ TensorCircuit import failed:\", e)\n",
    "print(f\"🐍 Python: {sys.version.split()[0]}\")\n",
    "print(f\"💻 Platform: {platform.platform()}\")\n",
    "print(\n",
    "    \"\\n🎉 Tutorial completed successfully! You're now ready to use the lattice API in your quantum simulations.\"\n",
    ")"
   ]
  }
 ],
 "metadata": {
  "kernelspec": {
   "display_name": "venv",
   "language": "python",
   "name": "python3"
  },
  "language_info": {
   "codemirror_mode": {
    "name": "ipython",
    "version": 3
   },
   "file_extension": ".py",
   "mimetype": "text/x-python",
   "name": "python",
   "nbconvert_exporter": "python",
   "pygments_lexer": "ipython3",
   "version": "3.10.5"
  }
 },
 "nbformat": 4,
 "nbformat_minor": 5
}
