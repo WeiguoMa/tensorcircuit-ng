{
 "cells": [
  {
   "cell_type": "markdown",
   "id": "fb9014d4",
   "metadata": {},
   "source": [
    "# Qudit Circuit Basics\n",
    "\n",
    "*A gentle intro to `tensorcircuit.quditcircuit.QuditCircuit`*"
   ]
  },
  {
   "cell_type": "markdown",
   "id": "78755298",
   "metadata": {},
   "source": [
    "\n",
    "## Overview\n",
    "\n",
    "This tutorial shows how to build and simulate **qudit** circuits (d‑level systems, where `d ≥ 3`) using `tensorcircuit`'s `QuditCircuit` API. It mirrors the structure of the classic *Circuit Basics* notebook but focuses on **qutrits and higher**.\n",
    "\n",
    "**Highlights**\n",
    "- Create a `QuditCircuit(nqudits, dim)` with dimension `dim ∈ [3, 36]`.\n",
    "- Use generalized gates: `X`, `Z`, `H`, rotations `RX/RY/RZ` on selected levels `(j, k)`.\n",
    "- Two‑qudit interactions: `RXX`, `RZZ`, and the generalized controlled‑sum `CSUM` and controlled-phase `CPHASE`.\n",
    "- Obtain wavefunctions, probabilities, samples, expectations, and sub‑system projections.\n",
    "- Samples and bitstrings use base‑36 digits (`0–9A–Z`) where `A = 10, ..., Z = 35`.\n"
   ]
  },
  {
   "cell_type": "markdown",
   "id": "639c47d1",
   "metadata": {},
   "source": [
    "\n",
    "## Setup"
   ]
  },
  {
   "cell_type": "code",
   "id": "8f2d9565",
   "metadata": {
    "ExecuteTime": {
     "end_time": "2025-09-10T09:52:45.586900Z",
     "start_time": "2025-09-10T09:52:45.584017Z"
    }
   },
   "source": [
    "import tensorcircuit as tc\n",
    "from tensorcircuit.quditcircuit import QuditCircuit\n",
    "\n",
    "tc.set_backend(\"numpy\")  # or \"jax\", \"tensorflow\", \"pytorch\"\n",
    "print(\"tensorcircuit version:\", tc.__version__)"
   ],
   "outputs": [
    {
     "name": "stdout",
     "output_type": "stream",
     "text": [
      "tensorcircuit version: 1.3.0\n"
     ]
    }
   ],
   "execution_count": 30
  },
  {
   "cell_type": "markdown",
   "id": "e19b9c5d",
   "metadata": {},
   "source": [
    "\n",
    "## Hello, Qutrit! (dim = 13)\n",
    "\n",
    "We'll prepare a **single qutrit** (`nqudits=1`, `dim=3`), apply a generalized Hadamard `H` to put it into an equal superposition, and inspect the resulting state and probabilities.\n"
   ]
  },
  {
   "cell_type": "code",
   "id": "3fa13efe",
   "metadata": {
    "ExecuteTime": {
     "end_time": "2025-09-10T09:52:46.860189Z",
     "start_time": "2025-09-10T09:52:46.856020Z"
    }
   },
   "source": [
    "c = QuditCircuit(nqudits=1, dim=13)\n",
    "c.h(0)  # generalized Hadamard on the only qudit\n",
    "psi = c.wavefunction()           # state vector of length 13^1 = 13\n",
    "probs = c.probability()          # probability vector (length 3)\n",
    "print(r\"\\psi:\", psi)\n",
    "print(\"P:\", probs)"
   ],
   "outputs": [
    {
     "name": "stdout",
     "output_type": "stream",
     "text": [
      "\\psi: [0.2773501+0.j 0.2773501+0.j 0.2773501+0.j 0.2773501+0.j 0.2773501+0.j\n",
      " 0.2773501+0.j 0.2773501+0.j 0.2773501+0.j 0.2773501+0.j 0.2773501+0.j\n",
      " 0.2773501+0.j 0.2773501+0.j 0.2773501+0.j]\n",
      "P: [0.07692308 0.07692308 0.07692308 0.07692308 0.07692308 0.07692308\n",
      " 0.07692308 0.07692308 0.07692308 0.07692308 0.07692308 0.07692308\n",
      " 0.07692308]\n"
     ]
    }
   ],
   "execution_count": 31
  },
  {
   "cell_type": "markdown",
   "id": "3d4bd27e",
   "metadata": {},
   "source": [
    "\n",
    "## Multi‑Qudit Basics\n",
    "\n",
    "Let's move to **two qutrits** and create a maximally entangled state using `H` and the qudit controlled‑sum `CSUM`.\n",
    "\n",
    "The operator `CSUM(control, target, cv=None)` adds the control's value to the target modulo `dim`. It's a natural generalization of CNOT. If you pass `cv`, the gate activates only when the control equals that value (default is `1`).\n"
   ]
  },
  {
   "cell_type": "code",
   "id": "c53a755e",
   "metadata": {
    "ExecuteTime": {
     "end_time": "2025-09-10T09:52:49.285065Z",
     "start_time": "2025-09-10T09:52:49.281466Z"
    }
   },
   "source": [
    "cq = QuditCircuit(nqudits=2, dim=3)   # two qutrits\n",
    "cq.h(0)                               # superpose control\n",
    "cq.csum(0, 1)                         # qudit CNOT analog (control=0, target=1)\n",
    "psi = cq.wavefunction()\n",
    "probs = cq.probability()\n",
    "print(r\"|\\psi|^2 (length 3^2=9):\", probs)"
   ],
   "outputs": [
    {
     "name": "stdout",
     "output_type": "stream",
     "text": [
      "|\\psi|^2 (length 3^2=9): [0.3333333 0.        0.        0.        0.3333333 0.        0.\n",
      " 0.        0.3333333]\n"
     ]
    }
   ],
   "execution_count": 32
  },
  {
   "cell_type": "markdown",
   "id": "10f5f60a",
   "metadata": {},
   "source": [
    "\n",
    "### Sampling and Base‑36 Readout\n",
    "\n",
    "Sampling returns strings in base‑`dim` using **`0-9A-Z`**. For `dim=3`, the alphabet is `0,1,2`:\n"
   ]
  },
  {
   "cell_type": "code",
   "id": "6542deab",
   "metadata": {
    "ExecuteTime": {
     "end_time": "2025-09-10T09:53:30.797350Z",
     "start_time": "2025-09-10T09:53:30.502390Z"
    }
   },
   "source": [
    "\n",
    "samples = cq.sample(batch=512, format=\"count_dict_bin\")  # e.g., '00', '11', '22'\n",
    "samples\n"
   ],
   "outputs": [
    {
     "data": {
      "text/plain": [
       "{'00': 180, '11': 167, '22': 165}"
      ]
     },
     "execution_count": 37,
     "metadata": {},
     "output_type": "execute_result"
    }
   ],
   "execution_count": 37
  },
  {
   "cell_type": "markdown",
   "id": "d2bd578c",
   "metadata": {},
   "source": [
    "\n",
    "## Single‑Qudit Rotations on Selected Levels\n",
    "\n",
    "For a qudit, rotations target a **two‑level subspace** inside the `d` levels.\n",
    "\n",
    "- `rx(index, theta, j=0, k=1)` rotates between levels `j` and `k` about the X‑axis of that embedded SU(2).\n",
    "- `ry(index, theta, j=0, k=1)` similarly for Y.\n",
    "- `rz(index, theta, j=0)` applies a Z‑phase to a single level `j`.\n",
    "\n",
    "> Tip: `(j, k)` must be distinct integers in `[0, dim-1]`.\n"
   ]
  },
  {
   "cell_type": "code",
   "id": "e4e2b769",
   "metadata": {
    "ExecuteTime": {
     "end_time": "2025-09-10T09:54:39.562209Z",
     "start_time": "2025-09-10T09:54:39.556487Z"
    }
   },
   "source": [
    "import numpy as np\n",
    "\n",
    "c = QuditCircuit(nqudits=1, dim=5)   # a ququint\n",
    "c.h(0)                                # start in equal superposition\n",
    "c.rx(0, theta=np.pi/3, j=1, k=3)      # rotate levels 1 and 3\n",
    "c.rz(0, theta=np.pi/5, j=4)           # add a phase to level 4\n",
    "psi = c.wavefunction()\n",
    "probs = c.probability()\n",
    "psi, probs"
   ],
   "outputs": [
    {
     "data": {
      "text/plain": [
       "(array([0.4472136 +0.j        , 0.38729832-0.2236068j ,\n",
       "        0.4472136 +0.j        , 0.38729832-0.2236068j ,\n",
       "        0.3618034 +0.26286554j], dtype=complex64),\n",
       " array([0.19999999, 0.19999997, 0.19999999, 0.19999997, 0.20000002],\n",
       "       dtype=float32))"
      ]
     },
     "execution_count": 38,
     "metadata": {},
     "output_type": "execute_result"
    }
   ],
   "execution_count": 38
  },
  {
   "cell_type": "markdown",
   "id": "9d98e918",
   "metadata": {},
   "source": [
    "\n",
    "## Two‑Qudit Interactions: `RXX`, `RZZ`\n",
    "\n",
    "You can couple two qudits by acting on chosen **subspaces** of each:\n",
    "\n",
    "- `rxx(q1, q2, theta, j1=0, k1=1, j2=0, k2=1)`\n",
    "- `rzz(q1, q2, theta, j1=0, k1=1, j2=0, k2=1)`\n",
    "\n",
    "Both gates are the natural generalizations of qubit XX/ZZ rotations but restricted to the `(j, k)` subspaces.\n"
   ]
  },
  {
   "cell_type": "code",
   "id": "a56be75e",
   "metadata": {
    "ExecuteTime": {
     "end_time": "2025-09-10T09:54:46.472203Z",
     "start_time": "2025-09-10T09:54:46.468063Z"
    }
   },
   "source": [
    "c2 = QuditCircuit(nqudits=2, dim=4)        # two ququarts\n",
    "c2.h(0); c2.h(1)\n",
    "c2.rxx(0, 1, theta=np.pi/4, j1=0, k1=2, j2=1, k2=3)\n",
    "c2.rzz(0, 1, theta=np.pi/7, j1=0, k1=1, j2=0, k2=1)\n",
    "c2.probability()"
   ],
   "outputs": [
    {
     "data": {
      "text/plain": [
       "array([0.0625, 0.0625, 0.0625, 0.0625, 0.0625, 0.0625, 0.0625, 0.0625,\n",
       "       0.0625, 0.0625, 0.0625, 0.0625, 0.0625, 0.0625, 0.0625, 0.0625],\n",
       "      dtype=float32)"
      ]
     },
     "execution_count": 39,
     "metadata": {},
     "output_type": "execute_result"
    }
   ],
   "execution_count": 39
  },
  {
   "cell_type": "markdown",
   "id": "c5a56af8",
   "metadata": {},
   "source": [
    "\n",
    "## Expectation Values of Local Operators\n",
    "\n",
    "`expectation(*ops)` computes the expectation for one or more local observables. Each observable is a pair `(op, [site_indices])` where `op` is a tensor (matrix) with appropriate dimension.\n"
   ]
  },
  {
   "cell_type": "code",
   "id": "fe4ed499",
   "metadata": {
    "ExecuteTime": {
     "end_time": "2025-09-10T09:55:01.754737Z",
     "start_time": "2025-09-10T09:55:01.750563Z"
    }
   },
   "source": [
    "# Example: build a diagonal operator on a single qutrit (dim=3)\n",
    "import numpy as np\n",
    "c = QuditCircuit(1, dim=3)\n",
    "c.h(0)\n",
    "op = np.diag([0.0, 0.5, 1.0])  # acts on subspace levels 0,1,2\n",
    "expval = c.expectation((op, [0]))\n",
    "expval"
   ],
   "outputs": [
    {
     "data": {
      "text/plain": [
       "array(0.49999997+0.j, dtype=complex64)"
      ]
     },
     "execution_count": 41,
     "metadata": {},
     "output_type": "execute_result"
    }
   ],
   "execution_count": 41
  },
  {
   "metadata": {},
   "cell_type": "markdown",
   "source": [
    "### Apply Arbitrary Gate\n",
    "\n",
    "Just directly using ``any`` API by feeding the corresponding unitary"
   ],
   "id": "648ee02776427b3c"
  },
  {
   "metadata": {
    "ExecuteTime": {
     "end_time": "2025-09-10T09:59:59.378191Z",
     "start_time": "2025-09-10T09:59:46.147228Z"
    }
   },
   "cell_type": "code",
   "source": [
    "d = 36\n",
    "c = tc.QuditCircuit(2, dim=d)\n",
    "h_matrix = tc.quditgates.h_matrix_func(d)\n",
    "c.any(0, unitary=h_matrix)\n",
    "csum_matrix = tc.quditgates.csum_matrix_func(d)\n",
    "c.any(0, 1, unitary=csum_matrix)\n",
    "c.sample(1024, format=\"count_dict_bin\")"
   ],
   "id": "4d73e00b952f2ac4",
   "outputs": [
    {
     "data": {
      "text/plain": [
       "{'00': 33,\n",
       " '11': 26,\n",
       " '22': 30,\n",
       " '33': 35,\n",
       " '44': 25,\n",
       " '55': 31,\n",
       " '66': 27,\n",
       " '77': 36,\n",
       " '88': 31,\n",
       " '99': 39,\n",
       " 'AA': 32,\n",
       " 'BB': 32,\n",
       " 'CC': 36,\n",
       " 'DD': 29,\n",
       " 'EE': 22,\n",
       " 'FF': 26,\n",
       " 'GG': 28,\n",
       " 'HH': 24,\n",
       " 'II': 20,\n",
       " 'JJ': 27,\n",
       " 'KK': 24,\n",
       " 'LL': 39,\n",
       " 'MM': 23,\n",
       " 'NN': 40,\n",
       " 'OO': 22,\n",
       " 'PP': 18,\n",
       " 'QQ': 25,\n",
       " 'RR': 27,\n",
       " 'SS': 28,\n",
       " 'TT': 24,\n",
       " 'UU': 28,\n",
       " 'VV': 29,\n",
       " 'WW': 21,\n",
       " 'XX': 29,\n",
       " 'YY': 30,\n",
       " 'ZZ': 28}"
      ]
     },
     "execution_count": 52,
     "metadata": {},
     "output_type": "execute_result"
    }
   ],
   "execution_count": 52
  },
  {
   "cell_type": "markdown",
   "id": "7aa6de25",
   "metadata": {},
   "source": [
    "\n",
    "## Notes & Tips\n",
    "\n",
    "- **Dimensions**: `QuditCircuit` validates `dim` and keeps it consistent across the circuit.\n",
    "- **Wavefunction & Probability**: `wavefunction()` returns the state; `probability()` returns a length‑`dim^n` vector.\n",
    "- **Sampling**: `sample(batch, format=\"str\")` returns base‑36 strings for readability; use `format=None` for raw integers.\n",
    "- **Controlled Operations**: `csum(control, target, cv=None)` generalizes CNOT; `cv` picks the active control value.\n",
    "- **Backend**: Switch via `tc.set_backend(\"numpy\" | \"jax\" | \"tensorflow\" | \"pytorch\")` as needed.\n",
    "- **Interoperability**: You can still obtain `matrix()` for the full unitary or `quoperator()` MPO‑like forms for advanced workflows.\n",
    "\n",
    "All the functions are similar to the `tc.Circuit`\n"
   ]
  },
  {
   "metadata": {},
   "cell_type": "code",
   "outputs": [],
   "execution_count": null,
   "source": "",
   "id": "9a33f318814fa510"
  }
 ],
 "metadata": {},
 "nbformat": 4,
 "nbformat_minor": 5
}
